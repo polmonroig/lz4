{
 "cells": [
  {
   "cell_type": "code",
   "execution_count": 4,
   "id": "953350b0",
   "metadata": {},
   "outputs": [],
   "source": []
  },
  {
   "cell_type": "code",
   "execution_count": 1,
   "id": "7a9ce9d6",
   "metadata": {},
   "outputs": [
    {
     "name": "stdout",
     "output_type": "stream",
     "text": [
      "['00000001', '00000000', '00000000', '10000000', '01100001']\n",
      "b'\\x01\\x00\\x00\\x80a'\n"
     ]
    }
   ],
   "source": [
    "fd = open(\"texts/just_a.lz4\", \"rb\")\n",
    "b = fd.read()\n",
    "b = b[7:-8]\n",
    "bins = [bin(byte)[2:] for byte in b]\n",
    "bins = [\"0\" * (8 - len(b)) + b for b in bins]\n",
    "print(bins)\n",
    "print(b)"
   ]
  },
  {
   "cell_type": "code",
   "execution_count": 2,
   "id": "7e6772ec",
   "metadata": {},
   "outputs": [
    {
     "name": "stdout",
     "output_type": "stream",
     "text": [
      "['00000001', '00000000', '00000000', '10000000', '01100010']\n",
      "b'\\x01\\x00\\x00\\x80b'\n"
     ]
    }
   ],
   "source": [
    "fd = open(\"texts/just_b.lz4\", \"rb\")\n",
    "b = fd.read()\n",
    "b = b[7:-8]\n",
    "bins = [bin(byte)[2:] for byte in b]\n",
    "bins = [\"0\" * (8 - len(b)) + b for b in bins]\n",
    "print(bins)\n",
    "print(b)"
   ]
  },
  {
   "cell_type": "code",
   "execution_count": 3,
   "id": "03b747bd",
   "metadata": {},
   "outputs": [
    {
     "name": "stdout",
     "output_type": "stream",
     "text": [
      "['00000010', '00000000', '00000000', '10000000', '01100001', '01100001']\n",
      "b'\\x02\\x00\\x00\\x80aa'\n"
     ]
    }
   ],
   "source": [
    "fd = open(\"texts/just_aa.lz4\", \"rb\")\n",
    "b = fd.read()\n",
    "b = b[7:-8]\n",
    "bins = [bin(byte)[2:] for byte in b]\n",
    "bins = [\"0\" * (8 - len(b)) + b for b in bins]\n",
    "print(bins)\n",
    "print(b)"
   ]
  },
  {
   "cell_type": "code",
   "execution_count": 4,
   "id": "6e88936a",
   "metadata": {},
   "outputs": [
    {
     "name": "stdout",
     "output_type": "stream",
     "text": [
      "['00001001', '00000000', '00000000', '10000000', '01100001', '01100001', '01100001', '01100001', '01100001', '01100001', '01100001', '01100001', '01100001']\n",
      "b'\\t\\x00\\x00\\x80aaaaaaaaa'\n"
     ]
    }
   ],
   "source": [
    "fd = open(\"texts/just_aaaaaaaaa.lz4\", \"rb\")\n",
    "b = fd.read()\n",
    "b = b[7:-8]\n",
    "bins = [bin(byte)[2:] for byte in b]\n",
    "bins = [\"0\" * (8 - len(b)) + b for b in bins]\n",
    "print(bins)\n",
    "print(b)"
   ]
  },
  {
   "cell_type": "code",
   "execution_count": 5,
   "id": "e114252c",
   "metadata": {},
   "outputs": [
    {
     "name": "stdout",
     "output_type": "stream",
     "text": [
      "['01100001', '01100001', '01100001', '01100001', '01100001', '00100000', '01100001', '01100001', '01100001', '01100001', '01100001']\n",
      "b'\\x0b\\x00\\x00\\x80aaaaa aaaaa'\n"
     ]
    }
   ],
   "source": [
    "fd = open(\"texts/just_aspace.lz4\", \"rb\")\n",
    "b = fd.read()\n",
    "b = b[7:-8]\n",
    "bins = [bin(byte)[2:] for byte in b][4:]\n",
    "bins = [\"0\" * (8 - len(b)) + b for b in bins]\n",
    "print(bins)\n",
    "print(b)"
   ]
  },
  {
   "cell_type": "markdown",
   "id": "cf4b32a7",
   "metadata": {},
   "source": [
    "In this example we have 0x12 where 1 represents the length of the a literal and 2 represents the number to copy from another buffer\n"
   ]
  },
  {
   "cell_type": "markdown",
   "id": "5f2ff80a",
   "metadata": {},
   "source": [
    "Decode the following sequence \n",
    "\n",
    "\\x12\\x00\\x00\\x00\\x10a\\x01\\x00\\x10 \\x05\\x00\\x0f\\x02\\x00SPaaaaa'\n",
    "\n",
    "\n",
    "\n",
    "0x10 => Token  \n",
    "a => literal \n",
    "0x01 => offset => little edian = 1 = current position \n",
    "0x00 => offset \n",
    "0x10 => Token\n",
    "space character => literal  \n",
    "0x05 => offset = 5\n",
    "0x00 => offset \n",
    "0x0F => token (no literal, 4 high bits = 0), match length is > 15   \n",
    "0x02 => offset = 2 \n",
    "0x00 => offset \n",
    "0x53 = S => 83 + 15 = 98 = match length \n",
    "0x50 = P => token \n",
    "a => literal 1\n",
    "a => literal 2prueba.txt.lz4\n",
    "a => literal 3 \n",
    "a => literal 4 \n",
    "a => literal 5 \n",
    "Last sequence stops right after literals field.\n",
    "\n",
    "\\x1b\\x00\\x00\\x00QHola \\x05\\x00SAdios\\x06\\x00\\xa0hola adios'\n",
    "\n",
    "\n",
    "\n",
    "Hola Hola Adios Adios hola adios\n",
    "\n",
    "Hola Hola Adios Adios hola adios \n",
    "\n",
    "BLOQUE 1 \n",
    "0x51 = Q => Token 5 = (1 hi ha un match tamany 5)\n",
    "Hola  => literal \n",
    "0x05 => offset (0005)\n",
    "0x00 => offset \n",
    "\n",
    "BLOQUE 2 \n",
    "0x53 = S => token 5 (MATCH LENGTH 2 + 4 = 7) \n",
    "Adios => literal \n",
    "0x06 offset\n",
    "0x00\n",
    "\n",
    "BLOQUE 3 ULTIMO \n",
    "0a0 => match length =  \n",
    "hola adios \n",
    "\n",
    "Bua bua bua casa casa bua bua \n",
    "\n",
    "SBua b\\x04\\x003cas\\x05\\x00\\x80bua bua \n",
    "B1 \n",
    "S = 53 \n",
    "Bua b = literal match loength = 7 \n",
    "0x04 \n",
    "0x00 \n",
    "\n",
    "B2 \n",
    "3 = 0x33 token match length = 7 \n",
    "cas\n",
    "0x05\n",
    "0x00 \n",
    "\n",
    "B3\n",
    "0x80 => token \n",
    "bua bua \n",
    "\n",
    "[b1, b2, b3]\n",
    "it ++\n",
    "push ()\n",
    "\n",
    "Bua bua bua casa casa \n"
   ]
  },
  {
   "cell_type": "code",
   "execution_count": 16,
   "id": "094811fd",
   "metadata": {},
   "outputs": [
    {
     "name": "stdout",
     "output_type": "stream",
     "text": [
      "['00010010', '00000000', '00000000', '00000000', '00010000', '01100001', '00000001', '00000000', '00010000', '00100000', '00000101', '00000000', '00001111', '00000010', '00000000', '01010011', '01010000', '01100001', '01100001', '01100001', '01100001', '01100001']\n",
      "b'\\x12\\x00\\x00\\x00\\x10a\\x01\\x00\\x10 \\x05\\x00\\x0f\\x02\\x00SPaaaaa'\n"
     ]
    }
   ],
   "source": [
    "fd = open(\"texts/just_as.lz4\", \"rb\")\n",
    "b = fd.read()\n",
    "b = b[7:-8] # remove header and footer\n",
    "# in this \n",
    "bins = [bin(byte)[2:] for byte in b]\n",
    "bins = [\"0\" * (8 - len(b)) + b for b in bins]\n",
    "print(bins)\n",
    "print(b)"
   ]
  },
  {
   "cell_type": "markdown",
   "id": "7afa2ae7",
   "metadata": {},
   "source": [
    "Note that the last sequence stops right after literals field."
   ]
  },
  {
   "cell_type": "code",
   "execution_count": 13,
   "id": "3b5ecbe3",
   "metadata": {},
   "outputs": [
    {
     "name": "stdout",
     "output_type": "stream",
     "text": [
      "['00101001', '00000000', '00000000', '10000000', '01100001', '01100010', '01100011', '01100100', '01100101', '01100110', '01100111', '01101000', '01101001', '01101010', '01101011', '01101100', '01101101', '01101111', '01110000', '01110001', '01110010', '01110011', '01110100', '01110101', '01110110', '01100110', '01110011', '01100100', '01101011', '01110111', '01100110', '01101010', '01100101', '01110101', '01100110', '01101010', '01110001', '01100001', '01100001', '01100110', '01100110', '01101010', '01110011', '01100100', '01100110']\n",
      "b')\\x00\\x00\\x80abcdefghijklmopqrstuvfsdkwfjeufjqaaffjsdf'\n"
     ]
    }
   ],
   "source": [
    "fd = open(\"texts/just_letters.lz4\", \"rb\")\n",
    "b = fd.read()\n",
    "b = b[7:-8]\n",
    "bins = [bin(byte)[2:] for byte in b]\n",
    "bins = [\"0\" * (8 - len(b)) + b for b in bins]\n",
    "print(bins)\n",
    "print(b)"
   ]
  },
  {
   "cell_type": "code",
   "execution_count": 4,
   "id": "9e0018bc",
   "metadata": {},
   "outputs": [
    {
     "name": "stdout",
     "output_type": "stream",
     "text": [
      "['00010111', '00000000', '00000000', '00000000', '01010011', '01000010', '01110101', '01100001', '00100000', '01100010', '00000100', '00000000', '00110011', '01100011', '01100001', '01110011', '00000101', '00000000', '10000000', '01100010', '01110101', '01100001', '00100000', '01100010', '01110101', '01100001', '00100000']\n",
      "b'\\x17\\x00\\x00\\x00SBua b\\x04\\x003cas\\x05\\x00\\x80bua bua '\n"
     ]
    }
   ],
   "source": [
    "\n",
    "fd = open(\"prueba.txt.lz4\", \"rb\")\n",
    "b = fd.read()\n",
    "b = b[7:-8]\n",
    "bins = [bin(byte)[2:] for byte in b]\n",
    "bins = [\"0\" * (8 - len(b)) + b for b in bins]\n",
    "print(bins)\n",
    "print(b)\n"
   ]
  },
  {
   "cell_type": "code",
   "execution_count": 12,
   "id": "f452adba",
   "metadata": {},
   "outputs": [
    {
     "name": "stdout",
     "output_type": "stream",
     "text": [
      "ssss\n"
     ]
    }
   ],
   "source": [
    "def edit(s):\n",
    "    s = \"fdsfsdsfd\"\n",
    "    \n",
    "k = \"ssss\"\n",
    "\n",
    "edit(k)\n",
    "print(k)"
   ]
  },
  {
   "cell_type": "code",
   "execution_count": 1,
   "id": "cc6b510e",
   "metadata": {},
   "outputs": [],
   "source": [
    "from lz import LZ4"
   ]
  },
  {
   "cell_type": "code",
   "execution_count": 2,
   "id": "aaf89a77",
   "metadata": {},
   "outputs": [
    {
     "name": "stdout",
     "output_type": "stream",
     "text": [
      "Literal length: 5\n",
      "Match length: 5\n",
      "It: 1\n",
      "It: 1\n",
      "Literal found: Hola \n",
      "It: 6\n",
      "Offset: 5\n",
      "It: 8\n",
      "It: 8\n",
      "It: 8\n",
      "Text: Hola Hola \n",
      "Literal length: 5\n",
      "Match length: 7\n",
      "It: 9\n",
      "It: 9\n",
      "Literal found: Adios\n",
      "It: 14\n",
      "Offset: 6\n",
      "It: 16\n",
      "It: 16\n",
      "It: 16\n",
      "Text: Hola Hola Adios Adios \n",
      "Literal length: 10\n",
      "Match length: 4\n",
      "It: 17\n",
      "It: 17\n",
      "Literal found: hola adios\n",
      "It: 27\n",
      "Text: Hola Hola Adios Adios hola adios\n"
     ]
    },
    {
     "data": {
      "text/plain": [
       "'Hola Hola Adios Adios hola adios'"
      ]
     },
     "execution_count": 2,
     "metadata": {},
     "output_type": "execute_result"
    }
   ],
   "source": [
    "encoder = LZ4()\n",
    "encoder.decompress(b'QHola \\x05\\x00SAdios\\x06\\x00\\xa0hola adios')"
   ]
  },
  {
   "cell_type": "raw",
   "id": "6450ec18",
   "metadata": {},
   "source": [
    "\n",
    "\n",
    "\n",
    "BLOQUE 1 \n",
    "0x51 = Q => Token 5 = (1 hi ha un match tamany 5)\n",
    "Hola  => literal \n",
    "0x05 => offset (0005)\n",
    "0x00 => offset \n",
    "\n",
    "BLOQUE 2 \n",
    "0x53 = S => token 5 (MATCH LENGTH 2 + 4 = 7) \n",
    "Adios => literal \n",
    "0x06 offset\n",
    "0x00\n",
    "\n",
    "BLOQUE 3 ULTIMO \n",
    "0a0 => match length =  \n",
    "hola adios "
   ]
  },
  {
   "cell_type": "code",
   "execution_count": 3,
   "id": "68be7692",
   "metadata": {},
   "outputs": [
    {
     "name": "stdout",
     "output_type": "stream",
     "text": [
      "Literal length: 5\n",
      "Match length: 7\n",
      "It: 1\n",
      "It: 1\n",
      "Literal found: Bua b\n",
      "It: 6\n",
      "Offset: 4\n",
      "It: 8\n",
      "It: 8\n",
      "It: 8\n",
      "Text: Bua bua bua \n",
      "Literal length: 3\n",
      "Match length: 7\n",
      "It: 9\n",
      "It: 9\n",
      "Literal found: cas\n",
      "It: 12\n",
      "Offset: 5\n",
      "It: 14\n",
      "It: 14\n",
      "It: 14\n",
      "Text: Bua bua bua casa casa \n",
      "Literal length: 8\n",
      "Match length: 4\n",
      "It: 15\n",
      "It: 15\n",
      "Literal found: bua bua \n",
      "It: 23\n",
      "Text: Bua bua bua casa casa bua bua \n"
     ]
    },
    {
     "data": {
      "text/plain": [
       "'Bua bua bua casa casa bua bua '"
      ]
     },
     "execution_count": 3,
     "metadata": {},
     "output_type": "execute_result"
    }
   ],
   "source": [
    "encoder = LZ4()\n",
    "encoder.decompress(b'SBua b\\x04\\x003cas\\x05\\x00\\x80bua bua ')"
   ]
  },
  {
   "cell_type": "code",
   "execution_count": null,
   "id": "effe8219",
   "metadata": {},
   "outputs": [],
   "source": []
  }
 ],
 "metadata": {
  "kernelspec": {
   "display_name": "Python 3",
   "language": "python",
   "name": "python3"
  },
  "language_info": {
   "codemirror_mode": {
    "name": "ipython",
    "version": 3
   },
   "file_extension": ".py",
   "mimetype": "text/x-python",
   "name": "python",
   "nbconvert_exporter": "python",
   "pygments_lexer": "ipython3",
   "version": "3.9.1"
  }
 },
 "nbformat": 4,
 "nbformat_minor": 5
}
